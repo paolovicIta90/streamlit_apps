{
 "cells": [
  {
   "cell_type": "markdown",
   "metadata": {},
   "source": [
    "### IMPORTING REQUIRED LIBRARIES"
   ]
  },
  {
   "cell_type": "code",
   "execution_count": 1,
   "metadata": {},
   "outputs": [],
   "source": [
    "%load_ext autoreload\n",
    "%autoreload 2"
   ]
  },
  {
   "cell_type": "code",
   "execution_count": 4,
   "metadata": {},
   "outputs": [],
   "source": [
    "import datetime\n",
    "from datetime import date\n",
    "import numpy as np\n",
    "import pandas as pd\n",
    "import re\n",
    "import os\n",
    "import json\n",
    "#import tiktoken # for token counting\n",
    "import numpy as np\n",
    "from collections import defaultdict\n",
    "import openai\n",
    "from openai import OpenAI\n",
    "import ast\n",
    "\n",
    "from llm_files.llm_response import *\n",
    "from llm_files.llm_settings import *\n",
    "from investment_analysis import *\n",
    "from parameters import *\n"
   ]
  },
  {
   "cell_type": "markdown",
   "metadata": {},
   "source": [
    "### STATIC INPUTS"
   ]
  },
  {
   "cell_type": "code",
   "execution_count": 18,
   "metadata": {},
   "outputs": [],
   "source": [
    "tools_list=['calculate_roe', 'calculate_cashflow_benefit']"
   ]
  },
  {
   "cell_type": "markdown",
   "metadata": {},
   "source": [
    "### TESTING THE FIRST LLM ANSWER"
   ]
  },
  {
   "cell_type": "code",
   "execution_count": 18,
   "metadata": {},
   "outputs": [
    {
     "data": {
      "text/plain": [
       "\"When you're considering buying a house with the intention to sell it in the future and then purchase another one, there are several factors to consider. Here's a general outline of what the process might involve, assuming you buy a house in one year, sell it in ten years, and then buy another one immediately after:\\n\\n**Year 1: Buying the First House**\\n\\n1. **Budgeting and Financing**: Determine your budget, including how much you can afford for a down payment and what mortgage terms you can secure. Get pre-approved for a mortgage to make your offer more attractive to sellers.\\n\\n2. **House Hunting**: Work with a real estate agent to find a house that meets your needs and is within your budget. Consider factors like location,\""
      ]
     },
     "execution_count": 18,
     "metadata": {},
     "output_type": "execute_result"
    }
   ],
   "source": [
    "user_prompt = 'Assume that I buy a house in 1 year, sell it in 10 years and buy straight after that'\n",
    "example = [{'action' : 'buy', 'year': 1}, {'action' : 'sell', 'year': 10}, {'action' : 'buy', 'year': 11} ]\n",
    "adjusted_prompt = f\"\"\"Please convert the user request into a structured format of transactions, represented as a list of dictionaries. The request is: {user_prompt}\n",
    "Each transaction is a dictionary with two keys: 'action' and 'year'.\n",
    "'action' should be a single word describing the transaction (e.g., 'buy', 'sell'). Use an underscore to combine words if necessary.\n",
    "'year' refers to the specific year the action takes place, not the number of years after the previous action.\n",
    "If buying and selling happen in consecutive years, ensure there is at least a one-year gap between selling and buying again.\n",
    "Please only returns the list of dictionaries as output\n",
    "\n",
    "For example if I buy a house in 1 year, sell it in 10 years and buy again 1 year after that the output should be {example}\n",
    "\n",
    "    \"\"\"\n",
    "\n",
    "response = client.chat.completions.create(\n",
    "        model='gpt-4-1106-preview',\n",
    "        messages=[{\"role\": \"user\", \"content\": user_prompt}],\n",
    "        temperature=0,\n",
    "        max_tokens=150,  # Adjust as necessary\n",
    "        top_p=0,\n",
    "        frequency_penalty=0,\n",
    "        presence_penalty=0\n",
    "    )\n",
    "response.choices[0].message.content\n"
   ]
  },
  {
   "cell_type": "markdown",
   "metadata": {},
   "source": [
    "### TESTING THE LLM ANSWER CHAIN"
   ]
  },
  {
   "cell_type": "code",
   "execution_count": 14,
   "metadata": {},
   "outputs": [
    {
     "name": "stdout",
     "output_type": "stream",
     "text": [
      "True\n",
      "['{', '\\t\"transactions\": [', '\\t\\t{\"action\": \"buy\", \"year\": 2020},', '\\t\\t{\"action\": \"sell\", \"year\": 2021},', '\\t\\t{\"action\": \"rent_out\", \"year\": 2022}', '\\t],', '\\t\"parameters\": {', '\\t\\t', '\\t},', '\\t\"functions\": {', '\\t\\t', '\\t}', '}']\n"
     ]
    },
    {
     "ename": "IndexError",
     "evalue": "list index out of range",
     "output_type": "error",
     "traceback": [
      "\u001b[1;31m---------------------------------------------------------------------------\u001b[0m",
      "\u001b[1;31mIndexError\u001b[0m                                Traceback (most recent call last)",
      "Cell \u001b[1;32mIn[14], line 6\u001b[0m\n\u001b[0;32m      3\u001b[0m model_finetuned \u001b[38;5;241m=\u001b[39m \u001b[38;5;124m'\u001b[39m\u001b[38;5;124mft:gpt-3.5-turbo-1106:de-martinos::8pGlpE1P\u001b[39m\u001b[38;5;124m'\u001b[39m\n\u001b[0;32m      4\u001b[0m model_general\u001b[38;5;241m=\u001b[39m\u001b[38;5;124m'\u001b[39m\u001b[38;5;124mgpt-4-turbo-preview\u001b[39m\u001b[38;5;124m'\u001b[39m\n\u001b[1;32m----> 6\u001b[0m \u001b[43mgenerate_response\u001b[49m\u001b[43m(\u001b[49m\u001b[43muser_prompt\u001b[49m\u001b[43m \u001b[49m\u001b[38;5;241;43m=\u001b[39;49m\u001b[43m \u001b[49m\u001b[43muser_prompt\u001b[49m\u001b[43m,\u001b[49m\u001b[43m \u001b[49m\u001b[43mmodel_finetuned\u001b[49m\u001b[43m \u001b[49m\u001b[38;5;241;43m=\u001b[39;49m\u001b[43m \u001b[49m\u001b[43mmodel_finetuned\u001b[49m\u001b[43m,\u001b[49m\u001b[43m \u001b[49m\n\u001b[0;32m      7\u001b[0m \u001b[43m                  \u001b[49m\u001b[43mmodel_general\u001b[49m\u001b[43m \u001b[49m\u001b[38;5;241;43m=\u001b[39;49m\u001b[43m \u001b[49m\u001b[43mmodel_general\u001b[49m\u001b[43m,\u001b[49m\u001b[43m \u001b[49m\u001b[43mupdated_parameters_dict\u001b[49m\u001b[43m \u001b[49m\u001b[38;5;241;43m=\u001b[39;49m\u001b[43m \u001b[49m\u001b[43mupdated_parameters_dict\u001b[49m\u001b[43m)\u001b[49m\n",
      "File \u001b[1;32mc:\\Users\\User\\mortgage_calculator\\Streamlit\\llm_files\\llm_response.py:37\u001b[0m, in \u001b[0;36mgenerate_response\u001b[1;34m(user_prompt, model_finetuned, model_general, updated_parameters_dict)\u001b[0m\n\u001b[0;32m     35\u001b[0m if not transactions:\n\u001b[0;32m     36\u001b[0m     transactions = [state['transactions'][-1]] if state['transactions'] else []\n\u001b[1;32m---> 37\u001b[0m \n\u001b[0;32m     38\u001b[0m # Update state with new transactions and parameters, if provided\n\u001b[0;32m     39\u001b[0m if transactions:\n",
      "File \u001b[1;32mc:\\Users\\User\\mortgage_calculator\\Streamlit\\llm_files\\llm_settings.py:49\u001b[0m, in \u001b[0;36mextract_transactions_and_parameters\u001b[1;34m(user_prompt, model)\u001b[0m\n\u001b[0;32m     47\u001b[0m llm_output_parts \u001b[38;5;241m=\u001b[39m llm_output\u001b[38;5;241m.\u001b[39msplit(\u001b[38;5;124m'\u001b[39m\u001b[38;5;130;01m\\n\u001b[39;00m\u001b[38;5;124m'\u001b[39m) \n\u001b[0;32m     48\u001b[0m \u001b[38;5;28mprint\u001b[39m(llm_output_parts)\n\u001b[1;32m---> 49\u001b[0m transactions_str \u001b[38;5;241m=\u001b[39m \u001b[43mllm_output_parts\u001b[49m\u001b[43m[\u001b[49m\u001b[38;5;241;43m0\u001b[39;49m\u001b[43m]\u001b[49m\u001b[38;5;241;43m.\u001b[39;49m\u001b[43msplit\u001b[49m\u001b[43m(\u001b[49m\u001b[38;5;124;43m'\u001b[39;49m\u001b[38;5;124;43m:\u001b[39;49m\u001b[38;5;124;43m'\u001b[39;49m\u001b[43m,\u001b[49m\u001b[43m \u001b[49m\u001b[38;5;241;43m1\u001b[39;49m\u001b[43m)\u001b[49m\u001b[43m[\u001b[49m\u001b[38;5;241;43m1\u001b[39;49m\u001b[43m]\u001b[49m\u001b[38;5;241m.\u001b[39mstrip()\n\u001b[0;32m     50\u001b[0m transactions \u001b[38;5;241m=\u001b[39m ast\u001b[38;5;241m.\u001b[39mliteral_eval(transactions_str)\n\u001b[0;32m     51\u001b[0m \u001b[38;5;28;01mif\u001b[39;00m transactions[\u001b[38;5;241m-\u001b[39m\u001b[38;5;241m1\u001b[39m][\u001b[38;5;124m'\u001b[39m\u001b[38;5;124maction\u001b[39m\u001b[38;5;124m'\u001b[39m] \u001b[38;5;129;01min\u001b[39;00m (\u001b[38;5;124m'\u001b[39m\u001b[38;5;124mbuy\u001b[39m\u001b[38;5;124m'\u001b[39m, \u001b[38;5;124m'\u001b[39m\u001b[38;5;124mrent_out\u001b[39m\u001b[38;5;124m'\u001b[39m):\n",
      "\u001b[1;31mIndexError\u001b[0m: list index out of range"
     ]
    }
   ],
   "source": [
    "user_prompt = 'Assume the same real estate transactions as before'\n",
    "updated_parameters_dict = initial_parameters\n",
    "model_finetuned = 'ft:gpt-3.5-turbo-1106:de-martinos::8pGlpE1P'\n",
    "model_general='gpt-4-turbo-preview'\n",
    "\n",
    "generate_response(user_prompt = user_prompt, model_finetuned = model_finetuned, \n",
    "                  model_general = model_general, updated_parameters_dict = updated_parameters_dict)"
   ]
  },
  {
   "cell_type": "markdown",
   "metadata": {},
   "source": [
    "### TEST ELEMENTS EXTRACTION"
   ]
  },
  {
   "cell_type": "code",
   "execution_count": 7,
   "metadata": {},
   "outputs": [],
   "source": [
    "user_prompt = 'Calculate the cash flow benefit if I buy a house in 3 years, sell it after 7 years, buy again straight after and sell in 45 years. I want to evaluate the investment after 10 years. Assume a house value of 400000 EUR.'\n",
    "transactions_test, updated_parameters_test, function_dict_test = extract_transactions_and_parameters(user_prompt, model = 'ft:gpt-3.5-turbo-1106:de-martinos::8pGlpE1P')"
   ]
  },
  {
   "cell_type": "code",
   "execution_count": 59,
   "metadata": {},
   "outputs": [
    {
     "data": {
      "text/plain": [
       "'calculate_roe'"
      ]
     },
     "execution_count": 59,
     "metadata": {},
     "output_type": "execute_result"
    }
   ],
   "source": [
    "function_dict_test['function']"
   ]
  },
  {
   "cell_type": "markdown",
   "metadata": {},
   "source": [
    "### TEST THE CODE TO ASSESS IF THE MODEL SHOULD BE USED"
   ]
  },
  {
   "cell_type": "code",
   "execution_count": 50,
   "metadata": {},
   "outputs": [],
   "source": [
    "def assess_if_tool_is_needed(user_prompt, parameters_list, tools_list):\n",
    "\n",
    "    adjusted_user_promt = f\"\"\"Given the user's request: '{user_prompt}', does it imply a real estate transaction or discuss relevant parameters or tools related to real estate investment analysis? Answer with 'True' or 'False' only.\"\"\"\n",
    "    \n",
    "    # adjusted_user_promt = f\"\"\"if in the {user_prompt} there is any reference to this list of parameters: {parameters_list} or to this tools : {tools_list}\n",
    "    #                             or any reference to real estate transactions such as buy, sell or rent a house then answer True otherwise False. You \n",
    "    #                             can only return the string True or the string False, nothing else\"\"\"\n",
    "    \n",
    "    llm_answer = query_llm(adjusted_user_promt, model = 'gpt-4-1106-preview')\n",
    "    llm_answer_bolean = ast.literal_eval(llm_answer)\n",
    "    \n",
    "    return llm_answer_bolean"
   ]
  },
  {
   "cell_type": "code",
   "execution_count": 11,
   "metadata": {},
   "outputs": [
    {
     "data": {
      "text/plain": [
       "False"
      ]
     },
     "execution_count": 11,
     "metadata": {},
     "output_type": "execute_result"
    }
   ],
   "source": [
    "user_prompt='ciao'\n",
    "assess_if_tool_is_needed(user_prompt=user_prompt)"
   ]
  },
  {
   "cell_type": "markdown",
   "metadata": {},
   "source": [
    "### TESTING THE COMPLEX LLM REPSONSE"
   ]
  },
  {
   "cell_type": "code",
   "execution_count": 17,
   "metadata": {},
   "outputs": [],
   "source": [
    "# Initialize state for transactions and parameters\n",
    "state = {\n",
    "    \"transactions\": [],\n",
    "    \"parameters\": initial_parameters,\n",
    "    \"function_dict\" : {'function_name':'calculate_roe', 'output_text' : 'the return on equity is  '}\n",
    "}\n",
    "\n",
    "function_dispatch = {\n",
    "                            'calculate_roe': calculate_roe,\n",
    "                            'calculate_cashflow_benefit' : calculate_cashflow_benefit \n",
    "                        # Add other functions here as needed\n",
    "                                                            }"
   ]
  },
  {
   "cell_type": "code",
   "execution_count": 21,
   "metadata": {},
   "outputs": [],
   "source": [
    "def handle_user_input(user_prompt, model_finetuned, model_general, parameters_list, tools_list, function_dispatch):\n",
    "    global state  # Ensure state is accessible and updatable\n",
    "    \n",
    "    # Add user input to conversation history\n",
    "    \n",
    "    #conversation.add_user_input(user_prompt)  # Context + user input\n",
    "\n",
    "    # Generate output based on the current input and conversation context\n",
    "    tool_to_be_used = assess_if_tool_is_needed(user_prompt=user_prompt)\n",
    "\n",
    "    print(tool_to_be_used)\n",
    "    if tool_to_be_used:\n",
    "        # Process output to extract transactions and parameters\n",
    "        transactions, updated_parameters, function_dict = extract_transactions_and_parameters(user_prompt, model = model_finetuned)        \n",
    "        \n",
    "        # Check if transactions are empty and use the last state if so\n",
    "        if not transactions:\n",
    "            transactions = [state['transactions'][-1]] if state['transactions'] else []\n",
    "\n",
    "        new_initial_parameters = create_updated_parameters_dict(updated_parameters = updated_parameters, initial_parameters_dict = state[\"parameters\"])\n",
    "\n",
    "        # Update state with new transactions and parameters, if provided\n",
    "        if transactions:\n",
    "            state[\"transactions\"] = transactions\n",
    "        if updated_parameters:\n",
    "            state[\"parameters\"] = new_initial_parameters  # assuming you want to replace parameters\n",
    "        if function_dict:\n",
    "            state['function_dict'] = function_dict\n",
    "\n",
    "        # Add system output to conversation history\n",
    "        #conversation.add_system_response(output)\n",
    "        \n",
    "\n",
    "            \n",
    "        function_to_be_used = function_dispatch[state['function_dict']['function']]\n",
    "        \n",
    "        answer = f\"{state['function_dict']['output_text']}{function_to_be_used(state['transactions'], state['parameters'])}\"\n",
    "\n",
    "\n",
    "        #Example Functions to be used\n",
    "        \n",
    "        #conversation.add_system_response(f\"ROE Calculation: {roe_result}\")\n",
    "        \n",
    "        return answer\n",
    "    \n",
    "    else:\n",
    "        standard_answer = query_llm(user_prompt, model = model_general)\n",
    "        return standard_answer"
   ]
  },
  {
   "cell_type": "code",
   "execution_count": 23,
   "metadata": {},
   "outputs": [
    {
     "name": "stdout",
     "output_type": "stream",
     "text": [
      "True\n"
     ]
    },
    {
     "ename": "KeyError",
     "evalue": "None",
     "output_type": "error",
     "traceback": [
      "\u001b[1;31m---------------------------------------------------------------------------\u001b[0m",
      "\u001b[1;31mKeyError\u001b[0m                                  Traceback (most recent call last)",
      "Cell \u001b[1;32mIn[23], line 2\u001b[0m\n\u001b[0;32m      1\u001b[0m user_prompt \u001b[38;5;241m=\u001b[39m \u001b[38;5;124m'\u001b[39m\u001b[38;5;124mWhat is the return on Equity if I buy a house in 1 year, sell in 10 year\u001b[39m\u001b[38;5;124m'\u001b[39m\n\u001b[1;32m----> 2\u001b[0m \u001b[43mhandle_user_input\u001b[49m\u001b[43m(\u001b[49m\u001b[43muser_prompt\u001b[49m\u001b[38;5;241;43m=\u001b[39;49m\u001b[43muser_prompt\u001b[49m\u001b[43m,\u001b[49m\u001b[43m \u001b[49m\u001b[43mmodel_finetuned\u001b[49m\u001b[38;5;241;43m=\u001b[39;49m\u001b[38;5;124;43m'\u001b[39;49m\u001b[38;5;124;43mft:gpt-3.5-turbo-1106:de-martinos::8pGlpE1P\u001b[39;49m\u001b[38;5;124;43m'\u001b[39;49m\u001b[43m,\u001b[49m\u001b[43m \u001b[49m\u001b[43mmodel_general\u001b[49m\u001b[38;5;241;43m=\u001b[39;49m\u001b[38;5;124;43m'\u001b[39;49m\u001b[38;5;124;43mgpt-4-turbo-preview\u001b[39;49m\u001b[38;5;124;43m'\u001b[39;49m\n\u001b[0;32m      3\u001b[0m \u001b[43m                    \u001b[49m\u001b[43m,\u001b[49m\u001b[43m \u001b[49m\u001b[43mparameters_list\u001b[49m\u001b[38;5;241;43m=\u001b[39;49m\u001b[43mparameters_list\u001b[49m\u001b[43m,\u001b[49m\u001b[43m \u001b[49m\u001b[43mtools_list\u001b[49m\u001b[38;5;241;43m=\u001b[39;49m\u001b[43mtools_list\u001b[49m\u001b[43m,\u001b[49m\u001b[43m \u001b[49m\u001b[43mfunction_dispatch\u001b[49m\u001b[43m \u001b[49m\u001b[38;5;241;43m=\u001b[39;49m\u001b[43m \u001b[49m\u001b[43mfunction_dispatch\u001b[49m\u001b[43m)\u001b[49m\n",
      "Cell \u001b[1;32mIn[21], line 35\u001b[0m, in \u001b[0;36mhandle_user_input\u001b[1;34m(user_prompt, model_finetuned, model_general, parameters_list, tools_list, function_dispatch)\u001b[0m\n\u001b[0;32m     28\u001b[0m     state[\u001b[38;5;124m'\u001b[39m\u001b[38;5;124mfunction_dict\u001b[39m\u001b[38;5;124m'\u001b[39m] \u001b[38;5;241m=\u001b[39m function_dict\n\u001b[0;32m     30\u001b[0m \u001b[38;5;66;03m# Add system output to conversation history\u001b[39;00m\n\u001b[0;32m     31\u001b[0m \u001b[38;5;66;03m#conversation.add_system_response(output)\u001b[39;00m\n\u001b[1;32m---> 35\u001b[0m function_to_be_used \u001b[38;5;241m=\u001b[39m \u001b[43mfunction_dispatch\u001b[49m\u001b[43m[\u001b[49m\u001b[43mstate\u001b[49m\u001b[43m[\u001b[49m\u001b[38;5;124;43m'\u001b[39;49m\u001b[38;5;124;43mfunction_dict\u001b[39;49m\u001b[38;5;124;43m'\u001b[39;49m\u001b[43m]\u001b[49m\u001b[43m[\u001b[49m\u001b[38;5;124;43m'\u001b[39;49m\u001b[38;5;124;43mfunction\u001b[39;49m\u001b[38;5;124;43m'\u001b[39;49m\u001b[43m]\u001b[49m\u001b[43m]\u001b[49m\n\u001b[0;32m     37\u001b[0m answer \u001b[38;5;241m=\u001b[39m \u001b[38;5;124mf\u001b[39m\u001b[38;5;124m\"\u001b[39m\u001b[38;5;132;01m{\u001b[39;00mstate[\u001b[38;5;124m'\u001b[39m\u001b[38;5;124mfunction_dict\u001b[39m\u001b[38;5;124m'\u001b[39m][\u001b[38;5;124m'\u001b[39m\u001b[38;5;124moutput_text\u001b[39m\u001b[38;5;124m'\u001b[39m]\u001b[38;5;132;01m}\u001b[39;00m\u001b[38;5;132;01m{\u001b[39;00mfunction_to_be_used(state[\u001b[38;5;124m'\u001b[39m\u001b[38;5;124mtransactions\u001b[39m\u001b[38;5;124m'\u001b[39m],\u001b[38;5;250m \u001b[39mstate[\u001b[38;5;124m'\u001b[39m\u001b[38;5;124mparameters\u001b[39m\u001b[38;5;124m'\u001b[39m])\u001b[38;5;132;01m}\u001b[39;00m\u001b[38;5;124m\"\u001b[39m\n\u001b[0;32m     40\u001b[0m \u001b[38;5;66;03m#Example Functions to be used\u001b[39;00m\n\u001b[0;32m     41\u001b[0m \n\u001b[0;32m     42\u001b[0m \u001b[38;5;66;03m#conversation.add_system_response(f\"ROE Calculation: {roe_result}\")\u001b[39;00m\n",
      "\u001b[1;31mKeyError\u001b[0m: None"
     ]
    }
   ],
   "source": [
    "user_prompt = 'What is the return on Equity if I buy a house in 1 year, sell in 10 year'\n",
    "handle_user_input(user_prompt=user_prompt, model_finetuned='ft:gpt-3.5-turbo-1106:de-martinos::8pGlpE1P', model_general='gpt-4-turbo-preview'\n",
    "                    , parameters_list=parameters_list, tools_list=tools_list, function_dispatch = function_dispatch)"
   ]
  },
  {
   "cell_type": "markdown",
   "metadata": {},
   "source": [
    "### TESTING THE STREAMLIT SETUP"
   ]
  },
  {
   "cell_type": "code",
   "execution_count": 78,
   "metadata": {},
   "outputs": [
    {
     "name": "stdout",
     "output_type": "stream",
     "text": [
      "True\n"
     ]
    },
    {
     "data": {
      "text/plain": [
       "'the cashflow benefit is 120062.0'"
      ]
     },
     "execution_count": 78,
     "metadata": {},
     "output_type": "execute_result"
    }
   ],
   "source": [
    "user_prompt = 'Calculate the cashflow benefit if I buy a house in 1 year, sell it in 10 years, consider that the investment horizon is 10 years'\n",
    "generate_response(user_prompt=user_prompt, model_finetuned='ft:gpt-3.5-turbo-1106:de-martinos::8pGlpE1P', \n",
    "                  model_general='gpt-4-turbo-preview', function_dispatch = function_dispatch)"
   ]
  },
  {
   "cell_type": "code",
   "execution_count": 37,
   "metadata": {},
   "outputs": [
    {
     "data": {
      "text/plain": [
       "45"
      ]
     },
     "execution_count": 37,
     "metadata": {},
     "output_type": "execute_result"
    }
   ],
   "source": [
    "test_list = [17672, 17392, 17101, 16796, 16477, 16144, 15796, 15433, 15053, 14656, 14241, 13807, 13354, 12881, 12386, 11869, 11328, 10764, 10174, 9557, 8913, 8239, 7536, 6800, 6032, 5229, 4390, 3513, 2597, 1639, 639, 0, 0, 0, 0, 0, 0, 0, 0, 0, 0, 0, 0, 0, 0]\n",
    "len(test_list)"
   ]
  },
  {
   "cell_type": "code",
   "execution_count": 43,
   "metadata": {},
   "outputs": [
    {
     "name": "stdout",
     "output_type": "stream",
     "text": [
      "44\n"
     ]
    },
    {
     "data": {
      "text/plain": [
       "False"
      ]
     },
     "execution_count": 43,
     "metadata": {},
     "output_type": "execute_result"
    }
   ],
   "source": [
    "interest_payments_test = [17392, 17101, 16796, 16477, 16144, 15796, 15433, 15053, 14656, 14241, 13807, 13354, 12881, 12386, 11869, 11328, 10764, 10174, 9557, 8913, 8239, 7536, 6800, 6032, 5229, 4390, 3513, 2597, 1639, 639, 0, 0, 0, 0, 0, 0, 0, 0, 0, 0, 0, 0, 0, 0]\n",
    "print(len(interest_payments_test))\n",
    "test_list == interest_payments_test\n"
   ]
  }
 ],
 "metadata": {
  "kernelspec": {
   "display_name": "excel_integration",
   "language": "python",
   "name": "python3"
  },
  "language_info": {
   "codemirror_mode": {
    "name": "ipython",
    "version": 3
   },
   "file_extension": ".py",
   "mimetype": "text/x-python",
   "name": "python",
   "nbconvert_exporter": "python",
   "pygments_lexer": "ipython3",
   "version": "3.9.18"
  }
 },
 "nbformat": 4,
 "nbformat_minor": 2
}
